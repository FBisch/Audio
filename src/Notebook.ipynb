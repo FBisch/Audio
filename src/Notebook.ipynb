{
 "cells": [
  {
   "cell_type": "code",
   "execution_count": 1,
   "metadata": {},
   "outputs": [],
   "source": [
    "import scipy.signal as sc\n",
    "from scipy.io import wavfile\n",
    "import numpy as np\n",
    "\n",
    "import params\n",
    "import helper\n",
    "import STFT_fast_RLS\n",
    "\n",
    "import librosa\n",
    "import librosa.display\n",
    "from scipy.io import wavfile\n",
    "from playsound import playsound\n",
    "import numpy as np\n",
    "from scipy import signal\n",
    "import matplotlib.pyplot as plt\n",
    "\n",
    "from scipy.fftpack import fft,ifft"
   ]
  },
  {
   "cell_type": "code",
   "execution_count": 2,
   "metadata": {},
   "outputs": [
    {
     "name": "stderr",
     "output_type": "stream",
     "text": [
      "C:\\Users\\Admin\\Anaconda3\\lib\\site-packages\\scipy\\io\\wavfile.py:273: WavFileWarning: Chunk (non-data) not understood, skipping it.\n",
      "  WavFileWarning)\n"
     ]
    }
   ],
   "source": [
    "#load the data and slpit the channels\n",
    "fs, data = wavfile.read('rec1.wav')            # reading the file\n",
    "\n",
    "# split the two channels\n",
    "d1 = wavfile.write('rec1_1.wav', fs, data[:, 0])  \n",
    "d2 = wavfile.write('rec1_2.wav', fs, data[:, 1])"
   ]
  },
  {
   "cell_type": "code",
   "execution_count": 3,
   "metadata": {},
   "outputs": [],
   "source": [
    "signal_1, fs = librosa.load('rec1_1.wav')\n",
    "signal_2, fs = librosa.load('rec1_2.wav')"
   ]
  },
  {
   "cell_type": "code",
   "execution_count": 4,
   "metadata": {},
   "outputs": [],
   "source": [
    "n_overlap = params.OVERLAP_PERCENTAGE*params.WINDOW_SIZE/100\n",
    "f_1, t_1, Zxx_1 = sc.stft(signal_1, fs, nperseg=params.WINDOW_SIZE, noverlap=n_overlap)\n",
    "f_2, t_2, Zxx_2 = sc.stft(signal_2, fs, nperseg=params.WINDOW_SIZE, noverlap=n_overlap)"
   ]
  },
  {
   "cell_type": "code",
   "execution_count": 5,
   "metadata": {},
   "outputs": [],
   "source": [
    "X_1 = Zxx_1\n",
    "X_2 = Zxx_2\n",
    "\n",
    "# Retrieve useful informations\n",
    "n_frames = X_1.shape[0]\n",
    "n_freqs = X_1.shape[1]\n",
    "dtype = X_1.dtype\n",
    "L = n_freqs"
   ]
  },
  {
   "cell_type": "code",
   "execution_count": 6,
   "metadata": {},
   "outputs": [],
   "source": [
    "d=10\n",
    "filter_length=params.filter_length\n",
    "f_factor=params.F_FACTOR\n",
    "delta=params.DELTA"
   ]
  },
  {
   "cell_type": "code",
   "execution_count": 7,
   "metadata": {},
   "outputs": [],
   "source": [
    "h = np.zeros((L,L), dtype=dtype)\n",
    "lh = np.zeros((d+1,L,L), dtype=dtype)"
   ]
  },
  {
   "cell_type": "code",
   "execution_count": 8,
   "metadata": {},
   "outputs": [
    {
     "data": {
      "text/plain": [
       "(11, 8177, 8177)"
      ]
     },
     "execution_count": 8,
     "metadata": {},
     "output_type": "execute_result"
    }
   ],
   "source": [
    "lh.shape"
   ]
  },
  {
   "cell_type": "code",
   "execution_count": 10,
   "metadata": {},
   "outputs": [
    {
     "name": "stdout",
     "output_type": "stream",
     "text": [
      "m =  1 / 65\n",
      "m =  2 / 65\n",
      "m =  3 / 65\n",
      "m =  4 / 65\n",
      "m =  5 / 65\n",
      "m =  6 / 65\n",
      "m =  7 / 65\n",
      "m =  8 / 65\n",
      "m =  9 / 65\n",
      "m =  10 / 65\n",
      "m =  11 / 65\n",
      "m =  12 / 65\n",
      "m =  13 / 65\n",
      "m =  14 / 65\n",
      "m =  15 / 65\n",
      "m =  16 / 65\n",
      "m =  17 / 65\n",
      "m =  18 / 65\n",
      "m =  19 / 65\n",
      "m =  20 / 65\n",
      "m =  21 / 65\n",
      "m =  22 / 65\n",
      "m =  23 / 65\n",
      "m =  24 / 65\n",
      "m =  25 / 65\n",
      "m =  26 / 65\n",
      "m =  27 / 65\n",
      "m =  28 / 65\n",
      "m =  29 / 65\n",
      "m =  30 / 65\n",
      "m =  31 / 65\n",
      "m =  32 / 65\n",
      "m =  33 / 65\n",
      "m =  34 / 65\n",
      "m =  35 / 65\n",
      "m =  36 / 65\n",
      "m =  37 / 65\n",
      "m =  38 / 65\n",
      "m =  39 / 65\n",
      "m =  40 / 65\n",
      "m =  41 / 65\n",
      "m =  42 / 65\n",
      "m =  43 / 65\n",
      "m =  44 / 65\n",
      "m =  45 / 65\n",
      "m =  46 / 65\n",
      "m =  47 / 65\n",
      "m =  48 / 65\n",
      "m =  49 / 65\n",
      "m =  50 / 65\n",
      "m =  51 / 65\n",
      "m =  52 / 65\n",
      "m =  53 / 65\n",
      "m =  54 / 65\n",
      "m =  55 / 65\n",
      "m =  56 / 65\n",
      "m =  57 / 65\n",
      "m =  58 / 65\n",
      "m =  59 / 65\n",
      "m =  60 / 65\n",
      "m =  61 / 65\n",
      "m =  62 / 65\n",
      "m =  63 / 65\n",
      "m =  64 / 65\n"
     ]
    }
   ],
   "source": [
    "\n",
    "# Initialize variables\n",
    "h = np.zeros((L,L))\n",
    "l_h = [h]\n",
    "#x_2 = np.zeros(filter_length, dtype=dtype)\n",
    "\n",
    "P = np.eye(L) * (1/delta)\n",
    "\n",
    "# More initializations\n",
    "E = np.zeros(X_1.shape, dtype=dtype)\n",
    "#g = np.zeros((n_frames, filter_length, 1), dtype=dtype)\n",
    "epsilon = np.zeros(X_1.shape, dtype=dtype)\n",
    "\n",
    "for m in range(1,n_frames):\n",
    "            print(\"m = \",m,'/',n_frames)\n",
    "            #for f in np.arange(n_freqs):\n",
    "            # print(\"f = {}\".format(f))\n",
    "\n",
    "            #temp = np.reshape(np.conj(x_2).transpose() @ P[m-1], (1, filter_length))\n",
    "\n",
    "            # A-priori error\n",
    "            E[m] = X_1[m] - np.transpose(np.conj(h))@X_2[m]\n",
    "\n",
    "            # Kalmann gain vector\n",
    "            num = P@X_2[m]\n",
    "            denom = f_factor + np.transpose(np.conj(X_2[m]))@P@X_2[m]\n",
    "            \n",
    "            g = num/denom\n",
    "\n",
    "            # Update\n",
    "            P = (P - g*np.transpose(np.conj(X_2[m]))@P)*(1/f_factor)\n",
    "            h = h + np.outer(g,np.conj(E[m]))\n",
    "            indice = int(m%d)\n",
    "            lh[indice] = h\n",
    "            if m >= d:\n",
    "                   epsilon[m] = X_1[m] - np.transpose(np.conjugate(lh[(d+1)%d]))@X_2[m]\n",
    "                   #epsilon[m] = X_1[m] - np.transpose(np.conjugate(h[m-d]))@X_2[m]"
   ]
  },
  {
   "cell_type": "code",
   "execution_count": 11,
   "metadata": {},
   "outputs": [],
   "source": [
    "_,epsilon_time = sc.istft(epsilon , fs, nperseg=params.WINDOW_SIZE, noverlap=n_overlap)"
   ]
  },
  {
   "cell_type": "code",
   "execution_count": 12,
   "metadata": {},
   "outputs": [
    {
     "data": {
      "text/plain": [
       "(523264,)"
      ]
     },
     "execution_count": 12,
     "metadata": {},
     "output_type": "execute_result"
    }
   ],
   "source": [
    "epsilon_time.shape"
   ]
  },
  {
   "cell_type": "code",
   "execution_count": 13,
   "metadata": {},
   "outputs": [
    {
     "data": {
      "text/plain": [
       "(523214,)"
      ]
     },
     "execution_count": 13,
     "metadata": {},
     "output_type": "execute_result"
    }
   ],
   "source": [
    "signal_1.shape"
   ]
  },
  {
   "cell_type": "code",
   "execution_count": 14,
   "metadata": {},
   "outputs": [],
   "source": [
    "epsilon_time\n",
    "\n",
    "e = np.array(epsilon_time,dtype=\"float32\")"
   ]
  },
  {
   "cell_type": "code",
   "execution_count": 15,
   "metadata": {},
   "outputs": [],
   "source": [
    "essai = 'essai_10.wav'\n",
    "wavfile.write(essai, fs, e)"
   ]
  },
  {
   "cell_type": "code",
   "execution_count": 16,
   "metadata": {},
   "outputs": [],
   "source": [
    "playsound(essai)"
   ]
  },
  {
   "cell_type": "code",
   "execution_count": 106,
   "metadata": {},
   "outputs": [],
   "source": [
    "playsound('rec1.wav')"
   ]
  },
  {
   "cell_type": "code",
   "execution_count": null,
   "metadata": {},
   "outputs": [],
   "source": []
  }
 ],
 "metadata": {
  "kernelspec": {
   "display_name": "Python 3",
   "language": "python",
   "name": "python3"
  },
  "language_info": {
   "codemirror_mode": {
    "name": "ipython",
    "version": 3
   },
   "file_extension": ".py",
   "mimetype": "text/x-python",
   "name": "python",
   "nbconvert_exporter": "python",
   "pygments_lexer": "ipython3",
   "version": "3.7.1"
  }
 },
 "nbformat": 4,
 "nbformat_minor": 2
}
