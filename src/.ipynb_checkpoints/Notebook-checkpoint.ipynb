{
 "cells": [
  {
   "cell_type": "code",
   "execution_count": 19,
   "metadata": {},
   "outputs": [],
   "source": [
    "import scipy.signal as sc\n",
    "from scipy.io import wavfile\n",
    "import numpy as np\n",
    "\n",
    "import params\n",
    "import helper\n",
    "import STFT_fast_RLS\n",
    "\n",
    "import librosa\n",
    "import librosa.display\n",
    "from scipy.io import wavfile\n",
    "from playsound import playsound\n",
    "import numpy as np\n",
    "from scipy import signal\n",
    "import matplotlib.pyplot as plt\n",
    "\n",
    "from scipy.fftpack import fft,ifft"
   ]
  },
  {
   "cell_type": "code",
   "execution_count": 20,
   "metadata": {},
   "outputs": [
    {
     "name": "stderr",
     "output_type": "stream",
     "text": [
      "C:\\Users\\Admin\\Anaconda3\\lib\\site-packages\\scipy\\io\\wavfile.py:273: WavFileWarning: Chunk (non-data) not understood, skipping it.\n",
      "  WavFileWarning)\n"
     ]
    }
   ],
   "source": [
    "#load the data and slpit the channels\n",
    "fs, data = wavfile.read('rec1.wav')            # reading the file\n",
    "\n",
    "# split the two channels\n",
    "d1 = wavfile.write('rec1_1.wav', fs, data[:, 0])  \n",
    "d2 = wavfile.write('rec1_2.wav', fs, data[:, 1])"
   ]
  },
  {
   "cell_type": "code",
   "execution_count": 35,
   "metadata": {},
   "outputs": [],
   "source": [
    "signal_1, fs = librosa.load('rec1_1.wav')\n",
    "signal_2, fs = librosa.load('rec1_2.wav')"
   ]
  },
  {
   "cell_type": "code",
   "execution_count": 37,
   "metadata": {},
   "outputs": [],
   "source": [
    "n_overlap = params.OVERLAP_PERCENTAGE*params.WINDOW_SIZE/100\n",
    "f_1, t_1, Zxx_1 = sc.stft(signal_1, fs, nperseg=params.WINDOW_SIZE, noverlap=n_overlap)\n",
    "f_2, t_2, Zxx_2 = sc.stft(signal_2, fs, nperseg=params.WINDOW_SIZE, noverlap=n_overlap)"
   ]
  },
  {
   "cell_type": "code",
   "execution_count": 38,
   "metadata": {},
   "outputs": [],
   "source": [
    "X_1 = Zxx_1\n",
    "X_2 = Zxx_2 "
   ]
  },
  {
   "cell_type": "code",
   "execution_count": 39,
   "metadata": {},
   "outputs": [],
   "source": [
    "d=params.d\n",
    "filter_length=params.filter_length\n",
    "f_factor=params.F_FACTOR\n",
    "delta=params.DELTA"
   ]
  },
  {
   "cell_type": "code",
   "execution_count": null,
   "metadata": {},
   "outputs": [
    {
     "name": "stdout",
     "output_type": "stream",
     "text": [
      "m =  1 / 65\n",
      "m =  2 / 65\n",
      "m =  3 / 65\n",
      "m =  4 / 65\n",
      "m =  5 / 65\n",
      "m =  6 / 65\n",
      "m =  7 / 65\n",
      "m =  8 / 65\n",
      "m =  9 / 65\n",
      "m =  10 / 65\n",
      "m =  11 / 65\n",
      "m =  12 / 65\n",
      "m =  13 / 65\n",
      "m =  14 / 65\n",
      "m =  15 / 65\n"
     ]
    }
   ],
   "source": [
    "# Retrieve useful informations\n",
    "n_frames = X_1.shape[0]\n",
    "n_freqs = X_1.shape[1]\n",
    "dtype = X_1.dtype\n",
    "L = n_freqs\n",
    "# Initialize variables\n",
    "h = np.zeros( (L,L), dtype=dtype)\n",
    "\n",
    "#x_2 = np.zeros(filter_length, dtype=dtype)\n",
    "\n",
    "P = np.eye(L) * (1/delta)\n",
    "\n",
    "# More initializations\n",
    "E = np.zeros(X_1.shape, dtype=dtype)\n",
    "#g = np.zeros((n_frames, filter_length, 1), dtype=dtype)\n",
    "epsilon = np.zeros(X_1.shape, dtype=dtype)\n",
    "\n",
    "for m in range(1,n_frames):\n",
    "            print(\"m = \",m,'/',n_frames)\n",
    "            #for f in np.arange(n_freqs):\n",
    "            # print(\"f = {}\".format(f))\n",
    "\n",
    "            #temp = np.reshape(np.conj(x_2).transpose() @ P[m-1], (1, filter_length))\n",
    "\n",
    "            # A-priori error\n",
    "            E[m] = X_1[m] - np.transpose(np.conj(h))@X_2[m]\n",
    "\n",
    "            # Kalmann gain vector\n",
    "            num = P@X_2[m]\n",
    "            denom = f_factor + np.transpose(np.conj(X_2[m]))@P@X_2[m]\n",
    "            \n",
    "            g = num/denom\n",
    "\n",
    "            # Update\n",
    "            P = (P - g*np.transpose(np.conj(X_2[m]))@P)*(1/f_factor)\n",
    "            h = h + g*np.conj(E[m])\n",
    "\n",
    "            if m >= d:\n",
    "                   epsilon[m] = X_1[m] - np.transpose(np.conjugate(h[m-d]))@X_2[m] "
   ]
  },
  {
   "cell_type": "code",
   "execution_count": 52,
   "metadata": {},
   "outputs": [],
   "source": [
    "_,epsilon_time = sc.istft(epsilon , fs, nperseg=params.WINDOW_SIZE, noverlap=n_overlap)"
   ]
  },
  {
   "cell_type": "code",
   "execution_count": 53,
   "metadata": {},
   "outputs": [
    {
     "data": {
      "text/plain": [
       "(523264,)"
      ]
     },
     "execution_count": 53,
     "metadata": {},
     "output_type": "execute_result"
    }
   ],
   "source": [
    "epsilon_time.shape"
   ]
  },
  {
   "cell_type": "code",
   "execution_count": 44,
   "metadata": {},
   "outputs": [
    {
     "data": {
      "text/plain": [
       "(523214,)"
      ]
     },
     "execution_count": 44,
     "metadata": {},
     "output_type": "execute_result"
    }
   ],
   "source": [
    "signal_1.shape"
   ]
  },
  {
   "cell_type": "code",
   "execution_count": 54,
   "metadata": {},
   "outputs": [],
   "source": [
    "epsilon_time\n",
    "\n",
    "e = np.array(epsilon_time,dtype=\"float32\")"
   ]
  },
  {
   "cell_type": "code",
   "execution_count": 55,
   "metadata": {},
   "outputs": [],
   "source": [
    "essai = 'essai_7.wav'\n",
    "wavfile.write(essai, fs, e)"
   ]
  },
  {
   "cell_type": "code",
   "execution_count": 56,
   "metadata": {},
   "outputs": [],
   "source": [
    "playsound(essai)"
   ]
  },
  {
   "cell_type": "code",
   "execution_count": 50,
   "metadata": {},
   "outputs": [
    {
     "ename": "KeyboardInterrupt",
     "evalue": "",
     "output_type": "error",
     "traceback": [
      "\u001b[1;31m---------------------------------------------------------------------------\u001b[0m",
      "\u001b[1;31mKeyboardInterrupt\u001b[0m                         Traceback (most recent call last)",
      "\u001b[1;32m<ipython-input-50-ae8031b83e93>\u001b[0m in \u001b[0;36m<module>\u001b[1;34m\u001b[0m\n\u001b[1;32m----> 1\u001b[1;33m \u001b[0mplaysound\u001b[0m\u001b[1;33m(\u001b[0m\u001b[1;34m'rec1.wav'\u001b[0m\u001b[1;33m)\u001b[0m\u001b[1;33m\u001b[0m\u001b[1;33m\u001b[0m\u001b[0m\n\u001b[0m",
      "\u001b[1;32m~\\Anaconda3\\lib\\site-packages\\playsound.py\u001b[0m in \u001b[0;36m_playsoundWin\u001b[1;34m(sound, block)\u001b[0m\n\u001b[0;32m     39\u001b[0m \u001b[1;33m\u001b[0m\u001b[0m\n\u001b[0;32m     40\u001b[0m     \u001b[1;32mif\u001b[0m \u001b[0mblock\u001b[0m\u001b[1;33m:\u001b[0m\u001b[1;33m\u001b[0m\u001b[1;33m\u001b[0m\u001b[0m\n\u001b[1;32m---> 41\u001b[1;33m         \u001b[0msleep\u001b[0m\u001b[1;33m(\u001b[0m\u001b[0mfloat\u001b[0m\u001b[1;33m(\u001b[0m\u001b[0mdurationInMS\u001b[0m\u001b[1;33m)\u001b[0m \u001b[1;33m/\u001b[0m \u001b[1;36m1000.0\u001b[0m\u001b[1;33m)\u001b[0m\u001b[1;33m\u001b[0m\u001b[1;33m\u001b[0m\u001b[0m\n\u001b[0m\u001b[0;32m     42\u001b[0m \u001b[1;33m\u001b[0m\u001b[0m\n\u001b[0;32m     43\u001b[0m \u001b[1;32mdef\u001b[0m \u001b[0m_playsoundOSX\u001b[0m\u001b[1;33m(\u001b[0m\u001b[0msound\u001b[0m\u001b[1;33m,\u001b[0m \u001b[0mblock\u001b[0m \u001b[1;33m=\u001b[0m \u001b[1;32mTrue\u001b[0m\u001b[1;33m)\u001b[0m\u001b[1;33m:\u001b[0m\u001b[1;33m\u001b[0m\u001b[1;33m\u001b[0m\u001b[0m\n",
      "\u001b[1;31mKeyboardInterrupt\u001b[0m: "
     ]
    }
   ],
   "source": [
    "playsound('rec1.wav')"
   ]
  },
  {
   "cell_type": "code",
   "execution_count": null,
   "metadata": {},
   "outputs": [],
   "source": []
  }
 ],
 "metadata": {
  "kernelspec": {
   "display_name": "Python 3",
   "language": "python",
   "name": "python3"
  },
  "language_info": {
   "codemirror_mode": {
    "name": "ipython",
    "version": 3
   },
   "file_extension": ".py",
   "mimetype": "text/x-python",
   "name": "python",
   "nbconvert_exporter": "python",
   "pygments_lexer": "ipython3",
   "version": "3.7.1"
  }
 },
 "nbformat": 4,
 "nbformat_minor": 2
}
